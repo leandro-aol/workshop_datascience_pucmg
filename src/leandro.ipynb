{
 "nbformat": 4,
 "nbformat_minor": 2,
 "metadata": {
  "language_info": {
   "name": "python",
   "codemirror_mode": {
    "name": "ipython",
    "version": 3
   },
   "version": "3.7.4"
  },
  "orig_nbformat": 2,
  "file_extension": ".py",
  "mimetype": "text/x-python",
  "name": "python",
  "npconvert_exporter": "python",
  "pygments_lexer": "ipython3",
  "version": 3
 },
 "cells": [
  {
   "cell_type": "code",
   "execution_count": 1,
   "metadata": {},
   "outputs": [],
   "source": [
    "#Importando os pacotes\n",
    "import pandas as pd\n",
    "import numpy as np\n",
    "import matplotlib.pyplot as plt\n",
    "import seaborn as sns"
   ]
  },
  {
   "cell_type": "code",
   "execution_count": 4,
   "metadata": {},
   "outputs": [],
   "source": [
    "#Lendo os dados\n",
    "df = pd.read_csv('./data/winequality-red.csv')"
   ]
  },
  {
   "cell_type": "code",
   "execution_count": 150,
   "metadata": {},
   "outputs": [
    {
     "data": {
      "text/html": "<div>\n<style scoped>\n    .dataframe tbody tr th:only-of-type {\n        vertical-align: middle;\n    }\n\n    .dataframe tbody tr th {\n        vertical-align: top;\n    }\n\n    .dataframe thead th {\n        text-align: right;\n    }\n</style>\n<table border=\"1\" class=\"dataframe\">\n  <thead>\n    <tr style=\"text-align: right;\">\n      <th></th>\n      <th>fixed acidity</th>\n      <th>volatile acidity</th>\n      <th>citric acid</th>\n      <th>residual sugar</th>\n      <th>chlorides</th>\n      <th>free sulfur dioxide</th>\n      <th>total sulfur dioxide</th>\n      <th>density</th>\n      <th>pH</th>\n      <th>sulphates</th>\n      <th>alcohol</th>\n      <th>quality</th>\n    </tr>\n  </thead>\n  <tbody>\n    <tr>\n      <td>0</td>\n      <td>7.4</td>\n      <td>0.70</td>\n      <td>0.00</td>\n      <td>1.9</td>\n      <td>0.076</td>\n      <td>11.0</td>\n      <td>34.0</td>\n      <td>0.9978</td>\n      <td>3.51</td>\n      <td>0.56</td>\n      <td>9.4</td>\n      <td>5</td>\n    </tr>\n    <tr>\n      <td>1</td>\n      <td>7.8</td>\n      <td>0.88</td>\n      <td>0.00</td>\n      <td>2.6</td>\n      <td>0.098</td>\n      <td>25.0</td>\n      <td>67.0</td>\n      <td>0.9968</td>\n      <td>3.20</td>\n      <td>0.68</td>\n      <td>9.8</td>\n      <td>5</td>\n    </tr>\n    <tr>\n      <td>2</td>\n      <td>7.8</td>\n      <td>0.76</td>\n      <td>0.04</td>\n      <td>2.3</td>\n      <td>0.092</td>\n      <td>15.0</td>\n      <td>54.0</td>\n      <td>0.9970</td>\n      <td>3.26</td>\n      <td>0.65</td>\n      <td>9.8</td>\n      <td>5</td>\n    </tr>\n    <tr>\n      <td>3</td>\n      <td>11.2</td>\n      <td>0.28</td>\n      <td>0.56</td>\n      <td>1.9</td>\n      <td>0.075</td>\n      <td>17.0</td>\n      <td>60.0</td>\n      <td>0.9980</td>\n      <td>3.16</td>\n      <td>0.58</td>\n      <td>9.8</td>\n      <td>6</td>\n    </tr>\n    <tr>\n      <td>4</td>\n      <td>7.4</td>\n      <td>0.70</td>\n      <td>0.00</td>\n      <td>1.9</td>\n      <td>0.076</td>\n      <td>11.0</td>\n      <td>34.0</td>\n      <td>0.9978</td>\n      <td>3.51</td>\n      <td>0.56</td>\n      <td>9.4</td>\n      <td>5</td>\n    </tr>\n  </tbody>\n</table>\n</div>",
      "text/plain": "   fixed acidity  volatile acidity  citric acid  residual sugar  chlorides  \\\n0            7.4              0.70         0.00             1.9      0.076   \n1            7.8              0.88         0.00             2.6      0.098   \n2            7.8              0.76         0.04             2.3      0.092   \n3           11.2              0.28         0.56             1.9      0.075   \n4            7.4              0.70         0.00             1.9      0.076   \n\n   free sulfur dioxide  total sulfur dioxide  density    pH  sulphates  \\\n0                 11.0                  34.0   0.9978  3.51       0.56   \n1                 25.0                  67.0   0.9968  3.20       0.68   \n2                 15.0                  54.0   0.9970  3.26       0.65   \n3                 17.0                  60.0   0.9980  3.16       0.58   \n4                 11.0                  34.0   0.9978  3.51       0.56   \n\n   alcohol  quality  \n0      9.4        5  \n1      9.8        5  \n2      9.8        5  \n3      9.8        6  \n4      9.4        5  "
     },
     "execution_count": 150,
     "metadata": {},
     "output_type": "execute_result"
    }
   ],
   "source": [
    "df.head()\n",
    "# df.columns\n",
    "# df.dtypes # float64 e int64\n",
    "# df.shape # (1599, 12)\n",
    "# df.isna().sum() # 0 valores faltantes\n",
    "# df.info()"
   ]
  },
  {
   "cell_type": "code",
   "execution_count": 21,
   "metadata": {},
   "outputs": [],
   "source": [
    "#Criando o X e y\n",
    "X = df.drop(columns = ['quality'])\n",
    "y = df['quality']"
   ]
  },
  {
   "cell_type": "code",
   "execution_count": 161,
   "metadata": {},
   "outputs": [
    {
     "name": "stdout",
     "output_type": "stream",
     "text": "(1599, 12)\n(1599, 11)\n(1599,)\n"
    }
   ],
   "source": [
    "print(df.shape)\n",
    "print(X.shape)\n",
    "print(y.shape)"
   ]
  },
  {
   "cell_type": "code",
   "execution_count": 27,
   "metadata": {},
   "outputs": [],
   "source": [
    "# Separando dados em treino e teste\n",
    "from sklearn.model_selection import train_test_split\n",
    "\n",
    "X_train, X_test, y_train, y_test = train_test_split(X, y, test_size=0.3, random_state=42)"
   ]
  },
  {
   "cell_type": "code",
   "execution_count": 51,
   "metadata": {},
   "outputs": [],
   "source": [
    "# Normalização\n",
    "\n",
    "#StandardScaler\n",
    "from sklearn.preprocessing import StandardScaler\n",
    "\n",
    "std = StandardScaler()\n",
    "X_train_norm = std.fit_transform(X_train)\n",
    "X_test_norm = std.transform(X_test)"
   ]
  },
  {
   "cell_type": "code",
   "execution_count": 59,
   "metadata": {},
   "outputs": [],
   "source": [
    "# Normalização\n",
    "\n",
    "# Maximos Absolutos\n",
    "from sklearn.preprocessing import MaxAbsScaler\n",
    "\n",
    "maxabs = MaxAbsScaler()\n",
    "X_train_norm = maxabs.fit_transform(X_train)\n",
    "X_test_norm = maxabs.transform(X_test)"
   ]
  },
  {
   "cell_type": "code",
   "execution_count": 64,
   "metadata": {},
   "outputs": [
    {
     "data": {
      "text/html": "<div>\n<style scoped>\n    .dataframe tbody tr th:only-of-type {\n        vertical-align: middle;\n    }\n\n    .dataframe tbody tr th {\n        vertical-align: top;\n    }\n\n    .dataframe thead th {\n        text-align: right;\n    }\n</style>\n<table border=\"1\" class=\"dataframe\">\n  <thead>\n    <tr style=\"text-align: right;\">\n      <th></th>\n      <th>colunas</th>\n      <th>variancia</th>\n      <th>selecionada</th>\n    </tr>\n  </thead>\n  <tbody>\n    <tr>\n      <td>0</td>\n      <td>fixed acidity</td>\n      <td>2.934824</td>\n      <td>True</td>\n    </tr>\n    <tr>\n      <td>1</td>\n      <td>volatile acidity</td>\n      <td>0.033102</td>\n      <td>True</td>\n    </tr>\n    <tr>\n      <td>2</td>\n      <td>citric acid</td>\n      <td>0.038183</td>\n      <td>True</td>\n    </tr>\n    <tr>\n      <td>3</td>\n      <td>residual sugar</td>\n      <td>2.036592</td>\n      <td>True</td>\n    </tr>\n    <tr>\n      <td>4</td>\n      <td>chlorides</td>\n      <td>0.002220</td>\n      <td>True</td>\n    </tr>\n    <tr>\n      <td>5</td>\n      <td>free sulfur dioxide</td>\n      <td>105.443629</td>\n      <td>True</td>\n    </tr>\n    <tr>\n      <td>6</td>\n      <td>total sulfur dioxide</td>\n      <td>1090.447715</td>\n      <td>True</td>\n    </tr>\n    <tr>\n      <td>7</td>\n      <td>density</td>\n      <td>0.000003</td>\n      <td>True</td>\n    </tr>\n    <tr>\n      <td>8</td>\n      <td>pH</td>\n      <td>0.023689</td>\n      <td>True</td>\n    </tr>\n    <tr>\n      <td>9</td>\n      <td>sulphates</td>\n      <td>0.029641</td>\n      <td>True</td>\n    </tr>\n    <tr>\n      <td>10</td>\n      <td>alcohol</td>\n      <td>1.122069</td>\n      <td>True</td>\n    </tr>\n  </tbody>\n</table>\n</div>",
      "text/plain": "                 colunas    variancia  selecionada\n0          fixed acidity     2.934824         True\n1       volatile acidity     0.033102         True\n2            citric acid     0.038183         True\n3         residual sugar     2.036592         True\n4              chlorides     0.002220         True\n5    free sulfur dioxide   105.443629         True\n6   total sulfur dioxide  1090.447715         True\n7                density     0.000003         True\n8                     pH     0.023689         True\n9              sulphates     0.029641         True\n10               alcohol     1.122069         True"
     },
     "execution_count": 64,
     "metadata": {},
     "output_type": "execute_result"
    }
   ],
   "source": [
    "# Seleção de Feature\n",
    "\n",
    "# Seleção de feature univariada\n",
    "from sklearn.feature_selection import VarianceThreshold\n",
    "\n",
    "#Instanciando o objeto\n",
    "var = VarianceThreshold()\n",
    "\n",
    "#Ajustando aos dados\n",
    "var.fit(X_train)\n",
    "\n",
    "#Verificando a variancia e as variaveis selecionadas\n",
    "pd.DataFrame({'colunas': X_train.columns,'variancia': var.variances_, 'selecionada': var.get_support()})"
   ]
  },
  {
   "cell_type": "code",
   "execution_count": 112,
   "metadata": {},
   "outputs": [
    {
     "name": "stderr",
     "output_type": "stream",
     "text": "/home/leandro/anaconda3/lib/python3.7/site-packages/sklearn/model_selection/_split.py:1978: FutureWarning: The default value of cv will change from 3 to 5 in version 0.22. Specify it explicitly to silence this warning.\n  warnings.warn(CV_WARNING, FutureWarning)\n"
    }
   ],
   "source": [
    "# Seleção de Feature\n",
    "\n",
    "#Seleção de features no sklearn\n",
    "from sklearn.feature_selection import RFECV\n",
    "\n",
    "#Instanciando o objeto\n",
    "rfe = RFECV(LinearRegression())\n",
    "\n",
    "#Ajustando aos dados e transformando o dataframe\n",
    "X_train_rfe = rfe.fit_transform(X_train, y_train)"
   ]
  },
  {
   "cell_type": "code",
   "execution_count": 113,
   "metadata": {},
   "outputs": [
    {
     "name": "stdout",
     "output_type": "stream",
     "text": "(1119, 11) (1119, 11)\n"
    },
    {
     "data": {
      "text/html": "<div>\n<style scoped>\n    .dataframe tbody tr th:only-of-type {\n        vertical-align: middle;\n    }\n\n    .dataframe tbody tr th {\n        vertical-align: top;\n    }\n\n    .dataframe thead th {\n        text-align: right;\n    }\n</style>\n<table border=\"1\" class=\"dataframe\">\n  <thead>\n    <tr style=\"text-align: right;\">\n      <th></th>\n      <th>colunas</th>\n      <th>score</th>\n      <th>selecionada</th>\n    </tr>\n  </thead>\n  <tbody>\n    <tr>\n      <td>0</td>\n      <td>fixed acidity</td>\n      <td>0.028138</td>\n      <td>True</td>\n    </tr>\n    <tr>\n      <td>1</td>\n      <td>volatile acidity</td>\n      <td>0.172265</td>\n      <td>True</td>\n    </tr>\n    <tr>\n      <td>2</td>\n      <td>citric acid</td>\n      <td>0.174180</td>\n      <td>True</td>\n    </tr>\n    <tr>\n      <td>3</td>\n      <td>residual sugar</td>\n      <td>0.218261</td>\n      <td>True</td>\n    </tr>\n    <tr>\n      <td>4</td>\n      <td>chlorides</td>\n      <td>0.253567</td>\n      <td>True</td>\n    </tr>\n    <tr>\n      <td>5</td>\n      <td>free sulfur dioxide</td>\n      <td>0.247901</td>\n      <td>True</td>\n    </tr>\n    <tr>\n      <td>6</td>\n      <td>total sulfur dioxide</td>\n      <td>0.327418</td>\n      <td>True</td>\n    </tr>\n    <tr>\n      <td>7</td>\n      <td>density</td>\n      <td>0.322637</td>\n      <td>True</td>\n    </tr>\n    <tr>\n      <td>8</td>\n      <td>pH</td>\n      <td>0.322586</td>\n      <td>True</td>\n    </tr>\n    <tr>\n      <td>9</td>\n      <td>sulphates</td>\n      <td>0.322304</td>\n      <td>True</td>\n    </tr>\n    <tr>\n      <td>10</td>\n      <td>alcohol</td>\n      <td>0.330845</td>\n      <td>True</td>\n    </tr>\n  </tbody>\n</table>\n</div>",
      "text/plain": "                 colunas     score  selecionada\n0          fixed acidity  0.028138         True\n1       volatile acidity  0.172265         True\n2            citric acid  0.174180         True\n3         residual sugar  0.218261         True\n4              chlorides  0.253567         True\n5    free sulfur dioxide  0.247901         True\n6   total sulfur dioxide  0.327418         True\n7                density  0.322637         True\n8                     pH  0.322586         True\n9              sulphates  0.322304         True\n10               alcohol  0.330845         True"
     },
     "execution_count": 113,
     "metadata": {},
     "output_type": "execute_result"
    }
   ],
   "source": [
    "#Verificando a diferença entre os dataframes\n",
    "print(X_train_rfe.shape, X_train.shape)\n",
    "\n",
    "# Plotando o score e as features selecionadas\n",
    "df_rfe = pd.DataFrame({'colunas': X_train.columns, 'score': rfe.grid_scores_, 'selecionada': rfe.get_support()})\n",
    "\n",
    "df_rfe"
   ]
  },
  {
   "cell_type": "code",
   "execution_count": 114,
   "metadata": {},
   "outputs": [
    {
     "data": {
      "text/plain": "(480, 11)"
     },
     "execution_count": 114,
     "metadata": {},
     "output_type": "execute_result"
    }
   ],
   "source": [
    "colunas = list(df_rfe[df_rfe['selecionada']]['colunas'])\n",
    "colunas\n",
    "\n",
    "X_test_rfe = X_test[colunas]\n",
    "\n",
    "X_test_rfe.shape"
   ]
  },
  {
   "cell_type": "code",
   "execution_count": 122,
   "metadata": {},
   "outputs": [
    {
     "name": "stdout",
     "output_type": "stream",
     "text": "6291\n16038\n"
    }
   ],
   "source": [
    "# Balanceamento\n",
    "\n",
    "#Importando os pacotes\n",
    "# conda install -c conda-forge imbalanced-learn\n",
    "from imblearn.over_sampling import RandomOverSampler\n",
    "\n",
    "#Instanciando o objeto\n",
    "ros = RandomOverSampler()\n",
    "\n",
    "#Aplicando o resample\n",
    "X_train_ros, y_train_ros = ros.fit_resample(X_train, y_train)\n",
    "\n",
    "#Somando os casos com 1 em nosso target\n",
    "print(y_train.sum())\n",
    "\n",
    "#Somando os casos com 1 na base\n",
    "print(y_train_ros.sum())"
   ]
  },
  {
   "cell_type": "code",
   "execution_count": 133,
   "metadata": {},
   "outputs": [
    {
     "name": "stdout",
     "output_type": "stream",
     "text": "(1119, 11)\n(54, 11)\n"
    }
   ],
   "source": [
    "# Balanceamento\n",
    "\n",
    "#Importando os pacotes\n",
    "from imblearn.under_sampling import RandomUnderSampler\n",
    "\n",
    "#Instaciando o objeto\n",
    "rus = RandomUnderSampler()\n",
    "\n",
    "#Aplicando o resample\n",
    "X_train_rus, y_train_rus = rus.fit_resample(X_train, y_train)\n",
    "\n",
    "#Printando o shape da base de dados\n",
    "print(X_train.shape)\n",
    "\n",
    "#Shape apos transformação\n",
    "print(X_train_rus.shape)"
   ]
  },
  {
   "cell_type": "code",
   "execution_count": 138,
   "metadata": {},
   "outputs": [
    {
     "data": {
      "text/plain": "LinearRegression(copy_X=True, fit_intercept=True, n_jobs=None, normalize=False)"
     },
     "execution_count": 138,
     "metadata": {},
     "output_type": "execute_result"
    }
   ],
   "source": [
    "# Modelo\n",
    "\n",
    "#Regressão Linear | Importando os pacotes e instanciando o objeto\n",
    "from sklearn.linear_model import LinearRegression\n",
    "\n",
    "#Instanciando o objeto\n",
    "model = LinearRegression()\n",
    "\n",
    "#Ajustando o modelo\n",
    "model.fit(X_train, y_train)\n",
    "# model.fit(X_train_norm, y_train)\n",
    "# model.fit(X_train_rfe, y_train)\n",
    "# model.fit(X_train_ros, y_train_ros)\n",
    "# model.fit(X_train_rus, y_train_rus)"
   ]
  },
  {
   "cell_type": "code",
   "execution_count": 139,
   "metadata": {},
   "outputs": [],
   "source": [
    "#Realizando a predição\n",
    "y_pred = model.predict(X_test)\n",
    "# y_pred = model.predict(X_test_norm)\n",
    "# y_pred = model.predict(X_test_rfe)"
   ]
  },
  {
   "cell_type": "code",
   "execution_count": 140,
   "metadata": {},
   "outputs": [
    {
     "data": {
      "text/html": "<div>\n<style scoped>\n    .dataframe tbody tr th:only-of-type {\n        vertical-align: middle;\n    }\n\n    .dataframe tbody tr th {\n        vertical-align: top;\n    }\n\n    .dataframe thead th {\n        text-align: right;\n    }\n</style>\n<table border=\"1\" class=\"dataframe\">\n  <thead>\n    <tr style=\"text-align: right;\">\n      <th></th>\n      <th>predito</th>\n      <th>real</th>\n      <th>residuo</th>\n    </tr>\n  </thead>\n  <tbody>\n    <tr>\n      <td>803</td>\n      <td>5.356763</td>\n      <td>6</td>\n      <td>-0.643237</td>\n    </tr>\n    <tr>\n      <td>124</td>\n      <td>5.090715</td>\n      <td>5</td>\n      <td>0.090715</td>\n    </tr>\n    <tr>\n      <td>350</td>\n      <td>5.625538</td>\n      <td>6</td>\n      <td>-0.374462</td>\n    </tr>\n    <tr>\n      <td>682</td>\n      <td>5.448861</td>\n      <td>5</td>\n      <td>0.448861</td>\n    </tr>\n    <tr>\n      <td>1326</td>\n      <td>5.744784</td>\n      <td>6</td>\n      <td>-0.255216</td>\n    </tr>\n    <tr>\n      <td>...</td>\n      <td>...</td>\n      <td>...</td>\n      <td>...</td>\n    </tr>\n    <tr>\n      <td>1468</td>\n      <td>5.597986</td>\n      <td>7</td>\n      <td>-1.402014</td>\n    </tr>\n    <tr>\n      <td>495</td>\n      <td>6.105900</td>\n      <td>8</td>\n      <td>-1.894100</td>\n    </tr>\n    <tr>\n      <td>1325</td>\n      <td>5.744784</td>\n      <td>6</td>\n      <td>-0.255216</td>\n    </tr>\n    <tr>\n      <td>514</td>\n      <td>6.101798</td>\n      <td>7</td>\n      <td>-0.898202</td>\n    </tr>\n    <tr>\n      <td>576</td>\n      <td>5.480730</td>\n      <td>4</td>\n      <td>1.480730</td>\n    </tr>\n  </tbody>\n</table>\n<p>480 rows × 3 columns</p>\n</div>",
      "text/plain": "       predito  real   residuo\n803   5.356763     6 -0.643237\n124   5.090715     5  0.090715\n350   5.625538     6 -0.374462\n682   5.448861     5  0.448861\n1326  5.744784     6 -0.255216\n...        ...   ...       ...\n1468  5.597986     7 -1.402014\n495   6.105900     8 -1.894100\n1325  5.744784     6 -0.255216\n514   6.101798     7 -0.898202\n576   5.480730     4  1.480730\n\n[480 rows x 3 columns]"
     },
     "execution_count": 140,
     "metadata": {},
     "output_type": "execute_result"
    }
   ],
   "source": [
    "#Criando o dataframe com os resultados\n",
    "prr = pd.DataFrame({'predito' : y_pred, 'real': y_test, 'residuo': y_pred - y_test})\n",
    "prr"
   ]
  },
  {
   "cell_type": "code",
   "execution_count": 141,
   "metadata": {},
   "outputs": [
    {
     "data": {
      "text/plain": "0.5133956082451123"
     },
     "execution_count": 141,
     "metadata": {},
     "output_type": "execute_result"
    }
   ],
   "source": [
    "# Sklearn\n",
    "\n",
    "#Erro medio absoluto\n",
    "from sklearn.metrics import mean_absolute_error\n",
    "\n",
    "#Erro medio absoluto\n",
    "mean_absolute_error(y_pred, y_test)"
   ]
  },
  {
   "cell_type": "code",
   "execution_count": 144,
   "metadata": {},
   "outputs": [
    {
     "name": "stdout",
     "output_type": "stream",
     "text": "Warning: xgboost.XGBRegressor is not available and will not be used by TPOT.\nOptimization Progress:  67%|██████▋   | 6/9 [00:02<00:01,  2.46pipeline/s]Generation 1 - Current best internal CV score: -0.42348542504488657\nOptimization Progress: 100%|██████████| 9/9 [00:06<00:00,  1.34pipeline/s]Generation 2 - Current best internal CV score: -0.41336411081517044\n\nBest pipeline: AdaBoostRegressor(input_matrix, learning_rate=0.5, loss=linear, n_estimators=100)\n"
    },
    {
     "data": {
      "text/plain": "TPOTRegressor(config_dict=None, crossover_rate=0.1, cv=5,\n              disable_update_check=False, early_stop=None, generations=2,\n              max_eval_time_mins=5, max_time_mins=None, memory=None,\n              mutation_rate=0.9, n_jobs=1, offspring_size=None,\n              periodic_checkpoint_folder=None, population_size=3,\n              random_state=None, scoring=None, subsample=1.0, template=None,\n              use_dask=False, verbosity=2, warm_start=False)"
     },
     "execution_count": 144,
     "metadata": {},
     "output_type": "execute_result"
    }
   ],
   "source": [
    "# Auto ML\n",
    "#Importando os pacotes\n",
    "from tpot import TPOTRegressor\n",
    "\n",
    "#Instanciando o objeto\n",
    "tpot = TPOTRegressor(population_size = 3, generations = 2, verbosity = 2)\n",
    "\n",
    "#Ajustando os dados\n",
    "# Fazendo o train test split com o y para regressao\n",
    "# X_train, X_test, y_train, y_test = train_test_split(X, y_reg, random_state = 42, test_size = 0.3)\n",
    "\n",
    "#Ajustando aos dados\n",
    "tpot.fit(X_train,y_train)"
   ]
  },
  {
   "cell_type": "code",
   "execution_count": 148,
   "metadata": {},
   "outputs": [],
   "source": [
    "#Criando o modelo indicado pelo tpot\n",
    "from sklearn.pipeline import make_pipeline, make_union\n",
    "from sklearn.ensemble import AdaBoostRegressor\n",
    "\n",
    "exported_pipeline = make_pipeline(AdaBoostRegressor(learning_rate=0.5, loss='linear', n_estimators=100))\n",
    "    \n",
    "exported_pipeline.fit(X_train, y_train)\n",
    "y_pred_tpot = exported_pipeline.predict(X_test)"
   ]
  },
  {
   "cell_type": "code",
   "execution_count": 149,
   "metadata": {},
   "outputs": [
    {
     "data": {
      "text/plain": "0.526728857597664"
     },
     "execution_count": 149,
     "metadata": {},
     "output_type": "execute_result"
    }
   ],
   "source": [
    "# Sklearn\n",
    "\n",
    "#Erro medio absoluto\n",
    "from sklearn.metrics import mean_absolute_error\n",
    "\n",
    "#Erro medio absoluto\n",
    "mean_absolute_error(y_pred_tpot, y_test)"
   ]
  }
 ]
}